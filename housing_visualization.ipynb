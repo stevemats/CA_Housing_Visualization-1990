{
 "cells": [
  {
   "cell_type": "markdown",
   "metadata": {},
   "source": [
    "##    BACHELOR OF COMPUTER SCIENCE GROUP: \n",
    "\n",
    "#### California Housing Visualization & PDF Conversation + GitHub Link\n",
    " "
   ]
  },
  {
   "cell_type": "code",
   "execution_count": null,
   "metadata": {
    "colab": {
     "base_uri": "https://localhost:8080/"
    },
    "id": "VcyodPjav9aF",
    "outputId": "936677cf-de63-469e-d2bb-2674ed66aa1b"
   },
   "outputs": [],
   "source": [
    "import pandas as pd\n",
    "import numpy as np\n",
    "import seaborn as sns\n",
    "import matplotlib.pyplot as plt\n",
    "\n",
    "mydata=\"./data_source/housing.csv\"\n",
    "data=pd.read_csv(mydata)\n",
    "data.info()"
   ]
  },
  {
   "cell_type": "code",
   "execution_count": null,
   "metadata": {
    "colab": {
     "base_uri": "https://localhost:8080/",
     "height": 364
    },
    "id": "T_uBEqXK1Dph",
    "outputId": "6da2a310-f1d9-4ed6-a6ed-7c66d32c1b00"
   },
   "outputs": [],
   "source": [
    "data.describe()"
   ]
  },
  {
   "cell_type": "code",
   "execution_count": null,
   "metadata": {
    "colab": {
     "base_uri": "https://localhost:8080/",
     "height": 270
    },
    "id": "iezQBQmd1b4Z",
    "outputId": "b5ec2f03-20ea-411e-a1d8-c929a4bb6119"
   },
   "outputs": [],
   "source": [
    "data.head()"
   ]
  },
  {
   "cell_type": "code",
   "execution_count": null,
   "metadata": {
    "colab": {
     "base_uri": "https://localhost:8080/",
     "height": 270
    },
    "id": "dpV8AxlX1sHw",
    "outputId": "4f04e824-a0d8-4669-c38e-4576f8b3218c"
   },
   "outputs": [],
   "source": [
    "data.tail()"
   ]
  },
  {
   "cell_type": "code",
   "execution_count": null,
   "metadata": {
    "id": "-mXZlW0a7kkh",
    "scrolled": true
   },
   "outputs": [],
   "source": [
    "data.set_index('housing_median_age').plot(kind='bar')"
   ]
  },
  {
   "cell_type": "code",
   "execution_count": null,
   "metadata": {
    "colab": {
     "base_uri": "https://localhost:8080/",
     "height": 355
    },
    "id": "NJb_Fr3J7qOi",
    "outputId": "311f3b55-e15e-4b82-bbf4-6ec1a8528c62"
   },
   "outputs": [],
   "source": [
    "plt.figure(figsize=(16,8))\n",
    "data['housing_median_age'].value_counts().plot(kind='bar')\n",
    "plt.title(\"Age Distribution\")\n",
    "plt.xlabel(\"Age\")\n",
    "plt.ylabel(\"Age Count\")\n",
    "plt.show()"
   ]
  },
  {
   "cell_type": "code",
   "execution_count": null,
   "metadata": {
    "colab": {
     "base_uri": "https://localhost:8080/",
     "height": 433
    },
    "id": "H7bGZ5k1BMdy",
    "outputId": "498e519a-1247-4a99-cfe5-8598ef16610f"
   },
   "outputs": [],
   "source": [
    "\n",
    "data.plot(kind='scatter', x='longitude', y='latitude', alpha=0.4,\n",
    "        s=data['population']/100, label='population', figsize=(10,7),\n",
    "        c='median_house_value', cmap=plt.get_cmap('jet'), colorbar=True)\n",
    "plt.title('Median House Value across California',fontsize=15)\n",
    "plt.legend() \n",
    "plt.show()"
   ]
  }
 ],
 "metadata": {
  "colab": {
   "provenance": []
  },
  "kernelspec": {
   "display_name": "Python 3",
   "language": "python",
   "name": "python3"
  },
  "language_info": {
   "codemirror_mode": {
    "name": "ipython",
    "version": 3
   },
   "file_extension": ".py",
   "mimetype": "text/x-python",
   "name": "python",
   "nbconvert_exporter": "python",
   "pygments_lexer": "ipython3",
   "version": "3.8.8"
  }
 },
 "nbformat": 4,
 "nbformat_minor": 1
}
